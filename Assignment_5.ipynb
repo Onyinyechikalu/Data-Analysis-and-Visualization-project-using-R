{
 "cells": [
  {
   "cell_type": "markdown",
   "id": "5e9fa2da-88fe-4a56-a51d-3e0cd463aa39",
   "metadata": {
    "editable": true,
    "slideshow": {
     "slide_type": ""
    },
    "tags": []
   },
   "source": [
    "# Data Analysis and Visualization Assignment 5\n",
    "18.12.2023\n",
    "\n",
    "| Name | Uni-ID |\n",
    "| --- | --- |\n",
    "|  |  |\n",
    "|  |  |\n",
    "|  |  |\n",
    "|  |  |\n",
    "\n",
    "**Group name:**"
   ]
  },
  {
   "cell_type": "markdown",
   "id": "df9715c3-d365-4837-a58b-d62751b491b2",
   "metadata": {
    "editable": true,
    "slideshow": {
     "slide_type": ""
    },
    "tags": []
   },
   "source": [
    "## 1. (4 points) For 24 forest stands the density of trees [trees/ha] and the age of the stand [years] have been measured. Can the density of trees be predicted from the age of the stand?"
   ]
  },
  {
   "cell_type": "markdown",
   "id": "2de92494-644b-4043-90f2-40ae1fb144a0",
   "metadata": {
    "editable": true,
    "slideshow": {
     "slide_type": ""
    },
    "tags": []
   },
   "source": [
    "### 1 a. (1 point) Read in the data file `forest_stand.txt` , describe variables (scale, effect type, dependent/independent) and values (using statistical parameters) and visualize. If you observe any problems with the data, discuss them."
   ]
  },
  {
   "cell_type": "markdown",
   "id": "85326579-33f2-431f-a547-3f3193dcf2dd",
   "metadata": {
    "editable": true,
    "slideshow": {
     "slide_type": ""
    },
    "tags": []
   },
   "source": [
    "### 1 b. (0.5 points) Given the variable types and effects, what is the suitable parameter to describe the correlation between age of stands and density of trees? What is an appropriate regression model?"
   ]
  },
  {
   "cell_type": "markdown",
   "id": "a3b0dbd6-74d3-4edb-b686-953a5fdb79a9",
   "metadata": {
    "editable": true,
    "slideshow": {
     "slide_type": ""
    },
    "tags": []
   },
   "source": [
    "### 1 c. (0.5 point) Compute and interpret the chosen parameter for description of correlation."
   ]
  },
  {
   "cell_type": "markdown",
   "id": "b2dbe80e-96f3-4bc2-bd97-50a06cd46c1b",
   "metadata": {
    "editable": true,
    "slideshow": {
     "slide_type": ""
    },
    "tags": []
   },
   "source": [
    "### 1 d. (1 point) Perform a statistical test to show that the computed parameter for description of correlation is significantly different from zero at significance level $\\alpha=0.05$. Assume that the variables are bivariate normally distributed and that their variances are homogeneous. Write down the pair of statistical hypotheses and interpret the result of the test."
   ]
  },
  {
   "cell_type": "markdown",
   "id": "bdb3d544-2d69-4c56-b74e-5f98a74dcfae",
   "metadata": {
    "editable": true,
    "slideshow": {
     "slide_type": ""
    },
    "tags": []
   },
   "source": [
    "### 1 e. (1 point) Give and interpret the 99% CI for the measurement of correlation."
   ]
  },
  {
   "cell_type": "markdown",
   "id": "c2622e64-b532-4c34-9fe8-b710a0a702b2",
   "metadata": {
    "editable": true,
    "slideshow": {
     "slide_type": ""
    },
    "tags": []
   },
   "source": [
    "## 2. (8 points) The relationship between watering [l/qm] and the yield of cucumber [g/qm] is to be examined. In 50 pots three different water levels have been used and the cucumber yield has been measured."
   ]
  },
  {
   "cell_type": "markdown",
   "id": "73cc3b55-c976-46af-b0e8-f974e2c77fe5",
   "metadata": {
    "editable": true,
    "slideshow": {
     "slide_type": ""
    },
    "tags": []
   },
   "source": [
    "### 2 a. (1 point) Read in the data file `cucumber_water.txt`, describe variables (scale, effect type, dependent/independent) and values (using statistical parameters) and visualize. If you observe any problems with the data, discuss them."
   ]
  },
  {
   "cell_type": "markdown",
   "id": "8ecd04b5-e60b-4a86-b822-476ba638794d",
   "metadata": {
    "editable": true,
    "slideshow": {
     "slide_type": ""
    },
    "tags": []
   },
   "source": [
    "### 2 b. (0.5 points) Given the variable types and effects, what is the suitable parameter to describe the correlation between watering and cucumber yield? What is an appropriate regression model?"
   ]
  },
  {
   "cell_type": "markdown",
   "id": "6a7313e4-a30e-43fe-a180-ec38ca65be1e",
   "metadata": {
    "editable": true,
    "slideshow": {
     "slide_type": ""
    },
    "tags": []
   },
   "source": [
    "### 2 c. (0.5 points) Compute and interpret the chosen parameter for description of correlation."
   ]
  },
  {
   "cell_type": "markdown",
   "id": "9dc2a1c6-6f4b-413a-8c4a-ced961c59200",
   "metadata": {
    "editable": true,
    "slideshow": {
     "slide_type": ""
    },
    "tags": []
   },
   "source": [
    "### 2 d. (1 point) Compute the regression and give the formula for the regression curve."
   ]
  },
  {
   "cell_type": "markdown",
   "id": "2214725d-398c-4764-a9f4-06ce362ba5aa",
   "metadata": {
    "editable": true,
    "slideshow": {
     "slide_type": ""
    },
    "tags": []
   },
   "source": [
    "### 2 e. (2 points) Visualize the regression curve and the residuals. Perform residual analysis and discuss any problems you observe."
   ]
  },
  {
   "cell_type": "markdown",
   "id": "3bb0ac03-bf17-465c-b1db-230dccd0d694",
   "metadata": {
    "editable": true,
    "slideshow": {
     "slide_type": ""
    },
    "tags": []
   },
   "source": [
    "### 2 f. (1 point) Test whether the regression gradient is unequal zero on significance level $\\alpha=0.05$. Interpret the result."
   ]
  },
  {
   "cell_type": "markdown",
   "id": "0304306b-1b7d-49ef-ac1c-c3bb463a98b3",
   "metadata": {
    "editable": true,
    "slideshow": {
     "slide_type": ""
    },
    "tags": []
   },
   "source": [
    "### 2 g. (1 point) Predict the cucumber yield after application of $2.5 l/m^2$ water and give the 95\\% CI for the predicted value."
   ]
  },
  {
   "cell_type": "markdown",
   "id": "afa78548-af66-4b4d-a0af-ad5f18bea5a9",
   "metadata": {
    "editable": true,
    "slideshow": {
     "slide_type": ""
    },
    "tags": []
   },
   "source": [
    "### 2 h. (1 point) Visualize the data set and the 95% confidence band of the regression as well as the 95% prediction band. Discuss how to interpret both bands. Discuss the data set in this context."
   ]
  }
 ],
 "metadata": {
  "kernelspec": {
   "display_name": "R",
   "language": "R",
   "name": "ir"
  },
  "language_info": {
   "codemirror_mode": "r",
   "file_extension": ".r",
   "mimetype": "text/x-r-source",
   "name": "R",
   "pygments_lexer": "r",
   "version": "4.3.1"
  }
 },
 "nbformat": 4,
 "nbformat_minor": 5
}
