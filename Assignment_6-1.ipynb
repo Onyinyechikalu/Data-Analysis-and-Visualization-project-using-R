{
 "cells": [
  {
   "cell_type": "markdown",
   "id": "77db6f48-fbab-4d65-95fe-3866fc698c06",
   "metadata": {},
   "source": [
    "# Assignment 6-1"
   ]
  },
  {
   "cell_type": "markdown",
   "id": "bf61f7ab-aee0-4092-b62f-38771d6bdbd7",
   "metadata": {},
   "source": [
    "## Preparation "
   ]
  },
  {
   "cell_type": "markdown",
   "id": "4669dbbb-05a2-4687-b3f8-3c4bf31cdc3d",
   "metadata": {},
   "source": [
    "Maximum number of stages"
   ]
  },
  {
   "cell_type": "code",
   "execution_count": 3,
   "id": "3bdef357-47a0-44f0-9c4a-fc495eb99d48",
   "metadata": {},
   "outputs": [],
   "source": [
    "m <- 50"
   ]
  },
  {
   "cell_type": "markdown",
   "id": "288a5b39-4e6b-4e5e-b22c-af19bcb22050",
   "metadata": {},
   "source": [
    "Calculate number of new tillers for each stage up to the maximum number of stages."
   ]
  },
  {
   "cell_type": "code",
   "execution_count": 4,
   "id": "af888924-863e-4776-9612-03f01d297a77",
   "metadata": {},
   "outputs": [],
   "source": [
    "t <- numeric(m)\n",
    "t[1] <- 1\n",
    "t[2] <- 1\n",
    "for(n in 3:m)\n",
    "{\n",
    "  t[n] <- t[n-1] + t[n-2]\n",
    "}"
   ]
  },
  {
   "cell_type": "markdown",
   "id": "2cd32291-b548-446f-ab42-8f1569a09b3b",
   "metadata": {},
   "source": [
    "Calculate total numbers of tillers for each stage up to the maximum number of stages."
   ]
  },
  {
   "cell_type": "code",
   "execution_count": null,
   "id": "4b5a9c24-2a8c-4e4c-a653-98275d1f8d9d",
   "metadata": {},
   "outputs": [],
   "source": [
    "tt <- numeric(m)\n",
    "for(n in 1:m)\n",
    "{\n",
    "  tt[n] <- sum(t[1:n])\n",
    "}"
   ]
  },
  {
   "cell_type": "markdown",
   "id": "47b77b32-e7b0-4180-8cc1-0b64fd32ac49",
   "metadata": {},
   "source": [
    "Define the phyllochrons for the different varieties"
   ]
  },
  {
   "cell_type": "code",
   "execution_count": 5,
   "id": "5f5cc960-6ae3-419b-8d6d-267c0e6dea3f",
   "metadata": {},
   "outputs": [],
   "source": [
    "phyllochrons <- c(62,72,82,92,102,112,122,132,142,152)"
   ]
  },
  {
   "cell_type": "markdown",
   "id": "4aeaa72a-0685-45c0-a5c6-c6d5851a63e2",
   "metadata": {},
   "source": [
    "## Question A"
   ]
  },
  {
   "cell_type": "markdown",
   "id": "27bd2921-f7cf-4efa-bf11-60e803ec1e47",
   "metadata": {},
   "source": [
    "Now it's your task ..."
   ]
  }
 ],
 "metadata": {
  "kernelspec": {
   "display_name": "R",
   "language": "R",
   "name": "ir"
  },
  "language_info": {
   "codemirror_mode": "r",
   "file_extension": ".r",
   "mimetype": "text/x-r-source",
   "name": "R",
   "pygments_lexer": "r",
   "version": "4.1.3"
  }
 },
 "nbformat": 4,
 "nbformat_minor": 5
}
