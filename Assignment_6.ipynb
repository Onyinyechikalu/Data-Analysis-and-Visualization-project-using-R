{
 "cells": [
  {
   "cell_type": "markdown",
   "id": "5e9fa2da-88fe-4a56-a51d-3e0cd463aa39",
   "metadata": {
    "editable": true,
    "slideshow": {
     "slide_type": ""
    },
    "tags": []
   },
   "source": [
    "# Data Analysis and Visualization Assignment 6\n",
    "18.12.2023\n",
    "\n",
    "| Name | Uni-ID |\n",
    "| --- | --- |\n",
    "|  |  |\n",
    "|  |  |\n",
    "|  |  |\n",
    "|  |  |\n",
    "\n",
    "**Group name:**"
   ]
  },
  {
   "cell_type": "markdown",
   "id": "6a707ac1-4108-4ade-9fae-fff859d1326f",
   "metadata": {
    "editable": true,
    "slideshow": {
     "slide_type": ""
    },
    "tags": []
   },
   "source": [
    "## 1. (8 points) Take another look at the data table from the long term fertilization experiment in Rengen (`SupplementTableS7_CSH.xlsx`)."
   ]
  },
  {
   "cell_type": "markdown",
   "id": "b973d967-4d17-4007-8f3b-3155292b081e",
   "metadata": {
    "editable": true,
    "slideshow": {
     "slide_type": ""
    },
    "tags": []
   },
   "source": [
    "Note:</br>\n",
    "In the Rengen experiment the measurements at different dates were performed on the same plots. Consequently, they are not independent from each other (keyword: repeated measurements). An approach to perform linear modeling on the data should include the measurement number to keep track of the plots. This allows the variation between plots to be modeled separately from other factors.</br>\n",
    "To keep the exercise from getting overly complicated, we want you to omit this aspect from your models. However, we plan to show you examples and comparisons in the upcoming Q&A session on Wednesday the 13th of December."
   ]
  },
  {
   "cell_type": "markdown",
   "id": "ca3df55f-a052-44fb-b2ad-a50422b93981",
   "metadata": {
    "editable": true,
    "slideshow": {
     "slide_type": ""
    },
    "tags": []
   },
   "source": [
    "### 1 a. (0.5 points) Create two subsets of the data only containing measurements from growth 2 in 2014. Create the first so that it contains only the lowest fertilization $Ca$ and the second so that it contains only the full fertilization $CaNPK_2SO_4$"
   ]
  },
  {
   "cell_type": "markdown",
   "id": "53164999-7b24-476e-86ee-5072e46f3551",
   "metadata": {
    "editable": true,
    "slideshow": {
     "slide_type": ""
    },
    "tags": []
   },
   "source": [
    "### 1 b. (0.25 points) What are the variable types and effects of DOY and CSH?"
   ]
  },
  {
   "cell_type": "markdown",
   "id": "3deb9849-cbb8-41bc-877c-5010a821d797",
   "metadata": {
    "editable": true,
    "slideshow": {
     "slide_type": ""
    },
    "tags": []
   },
   "source": [
    "### 1 c. (0.25 points) Considering the variable types and effects, what is the suitable parameter to describe the correlation of CSH with DOY? What is an appropriate regression model?"
   ]
  },
  {
   "cell_type": "markdown",
   "id": "74222c08-0c8f-4cf0-96c4-6d8902ba2589",
   "metadata": {
    "editable": true,
    "slideshow": {
     "slide_type": ""
    },
    "tags": []
   },
   "source": [
    "### 1 d. (1 point) Compute and interpret the chosen parameter for description of correlation between CSH and DOY. Do this separately for the $Ca$ and $CaNPK_2SO_4$ fertilizations. Compare the two correlations."
   ]
  },
  {
   "cell_type": "markdown",
   "id": "d5db6e75-b6ef-4e88-9760-c0f0cd20abe1",
   "metadata": {
    "editable": true,
    "slideshow": {
     "slide_type": ""
    },
    "tags": []
   },
   "source": [
    "### 1 e. (1 point) Build a linear model for each of your two data subsets using CSH and DOY. Give the formulae for the regression curves. Interpret and compare the models."
   ]
  },
  {
   "cell_type": "markdown",
   "id": "47ee362d-a060-4dfe-9316-a442255c5fea",
   "metadata": {
    "editable": true,
    "slideshow": {
     "slide_type": ""
    },
    "tags": []
   },
   "source": [
    "### 1 f. (1 point) Visualize the regression curve and the residuals of both models."
   ]
  },
  {
   "cell_type": "markdown",
   "id": "b7a4f293-ffaf-499c-a561-35d2f71e57c5",
   "metadata": {
    "editable": true,
    "slideshow": {
     "slide_type": ""
    },
    "tags": []
   },
   "source": [
    "### 1 g. (1 point) Perform residual analysis for both models. Discuss any problems you observe and compare the models. Is the linearity assumption reasonable for both models? "
   ]
  },
  {
   "cell_type": "markdown",
   "id": "cfb9a8e4-f1e8-43ec-84f8-d8aaa250de4f",
   "metadata": {
    "editable": true,
    "slideshow": {
     "slide_type": ""
    },
    "tags": []
   },
   "source": [
    "### 1 h. (3 points) Create four new linear models: Each containing only the first three dates or the last three dates of either the $Ca$ or the $CaNPK_2SO_4$ fertilization. Apply the same methods used in 3 e, f and g to evaluate the models and to compare them to the previous models. Discuss the assumption of linearity with respect to the processes that were recorded in the experiment. "
   ]
  }
 ],
 "metadata": {
  "kernelspec": {
   "display_name": "R",
   "language": "R",
   "name": "ir"
  },
  "language_info": {
   "codemirror_mode": "r",
   "file_extension": ".r",
   "mimetype": "text/x-r-source",
   "name": "R",
   "pygments_lexer": "r",
   "version": "4.3.1"
  }
 },
 "nbformat": 4,
 "nbformat_minor": 5
}
